{
 "cells": [
  {
   "cell_type": "code",
   "execution_count": 2,
   "metadata": {},
   "outputs": [],
   "source": [
    "import pandas as pd"
   ]
  },
  {
   "cell_type": "code",
   "execution_count": 3,
   "metadata": {},
   "outputs": [],
   "source": [
    "df = pd.read_csv(\"data/validated.tsv\", sep=\"\\t\")"
   ]
  },
  {
   "cell_type": "code",
   "execution_count": 4,
   "metadata": {},
   "outputs": [],
   "source": [
    "del df[\"locale\"]\n",
    "del df[\"client_id\"]\n",
    "del df[\"up_votes\"]\n",
    "del df[\"down_votes\"]\n",
    "del df[\"age\"]\n",
    "del df[\"accent\"]\n",
    "del df[\"segment\"]"
   ]
  },
  {
   "cell_type": "code",
   "execution_count": 5,
   "metadata": {},
   "outputs": [
    {
     "output_type": "execute_result",
     "data": {
      "text/plain": [
       "                                 path  \\\n",
       "10       common_voice_en_18295850.mp3   \n",
       "42       common_voice_en_22338655.mp3   \n",
       "53       common_voice_en_18277778.mp3   \n",
       "59       common_voice_en_21943181.mp3   \n",
       "61       common_voice_en_20586574.mp3   \n",
       "...                               ...   \n",
       "1224859  common_voice_en_24058561.mp3   \n",
       "1224860  common_voice_en_24058562.mp3   \n",
       "1224861  common_voice_en_24058563.mp3   \n",
       "1224862  common_voice_en_24058564.mp3   \n",
       "1224863  common_voice_en_24058565.mp3   \n",
       "\n",
       "                                                  sentence  gender  \n",
       "10               The long-lived bridge still stands today.    male  \n",
       "42          The prints are then delivered to the customer.  female  \n",
       "53       We should not take for granted how fortunate w...    male  \n",
       "59                                                   eight    male  \n",
       "61       Geils began playing jazz trumpet but eventuall...    male  \n",
       "...                                                    ...     ...  \n",
       "1224859  The village was formerly called \"Indian River\"...    male  \n",
       "1224860                 The quay is on the Saint Lawrence.    male  \n",
       "1224861  After going to France, Loewy become a naturali...    male  \n",
       "1224862  It is the longest highway of any kind in the s...    male  \n",
       "1224863  Surveys found that most preferred a gradual wi...    male  \n",
       "\n",
       "[792304 rows x 3 columns]"
      ],
      "text/html": "<div>\n<style scoped>\n    .dataframe tbody tr th:only-of-type {\n        vertical-align: middle;\n    }\n\n    .dataframe tbody tr th {\n        vertical-align: top;\n    }\n\n    .dataframe thead th {\n        text-align: right;\n    }\n</style>\n<table border=\"1\" class=\"dataframe\">\n  <thead>\n    <tr style=\"text-align: right;\">\n      <th></th>\n      <th>path</th>\n      <th>sentence</th>\n      <th>gender</th>\n    </tr>\n  </thead>\n  <tbody>\n    <tr>\n      <th>10</th>\n      <td>common_voice_en_18295850.mp3</td>\n      <td>The long-lived bridge still stands today.</td>\n      <td>male</td>\n    </tr>\n    <tr>\n      <th>42</th>\n      <td>common_voice_en_22338655.mp3</td>\n      <td>The prints are then delivered to the customer.</td>\n      <td>female</td>\n    </tr>\n    <tr>\n      <th>53</th>\n      <td>common_voice_en_18277778.mp3</td>\n      <td>We should not take for granted how fortunate w...</td>\n      <td>male</td>\n    </tr>\n    <tr>\n      <th>59</th>\n      <td>common_voice_en_21943181.mp3</td>\n      <td>eight</td>\n      <td>male</td>\n    </tr>\n    <tr>\n      <th>61</th>\n      <td>common_voice_en_20586574.mp3</td>\n      <td>Geils began playing jazz trumpet but eventuall...</td>\n      <td>male</td>\n    </tr>\n    <tr>\n      <th>...</th>\n      <td>...</td>\n      <td>...</td>\n      <td>...</td>\n    </tr>\n    <tr>\n      <th>1224859</th>\n      <td>common_voice_en_24058561.mp3</td>\n      <td>The village was formerly called \"Indian River\"...</td>\n      <td>male</td>\n    </tr>\n    <tr>\n      <th>1224860</th>\n      <td>common_voice_en_24058562.mp3</td>\n      <td>The quay is on the Saint Lawrence.</td>\n      <td>male</td>\n    </tr>\n    <tr>\n      <th>1224861</th>\n      <td>common_voice_en_24058563.mp3</td>\n      <td>After going to France, Loewy become a naturali...</td>\n      <td>male</td>\n    </tr>\n    <tr>\n      <th>1224862</th>\n      <td>common_voice_en_24058564.mp3</td>\n      <td>It is the longest highway of any kind in the s...</td>\n      <td>male</td>\n    </tr>\n    <tr>\n      <th>1224863</th>\n      <td>common_voice_en_24058565.mp3</td>\n      <td>Surveys found that most preferred a gradual wi...</td>\n      <td>male</td>\n    </tr>\n  </tbody>\n</table>\n<p>792304 rows × 3 columns</p>\n</div>"
     },
     "metadata": {},
     "execution_count": 5
    }
   ],
   "source": [
    "df.dropna()"
   ]
  }
 ],
 "metadata": {
  "kernelspec": {
   "name": "python377jvsc74a57bd0e94a8b5e93aa01e41e6e7fd5eed958095e4de698ea2869d3915701e87360bf95",
   "display_name": "Python 3.7.7 64-bit"
  },
  "language_info": {
   "codemirror_mode": {
    "name": "ipython",
    "version": 3
   },
   "file_extension": ".py",
   "mimetype": "text/x-python",
   "name": "python",
   "nbconvert_exporter": "python",
   "pygments_lexer": "ipython3",
   "version": "3.7.7"
  }
 },
 "nbformat": 4,
 "nbformat_minor": 1
}